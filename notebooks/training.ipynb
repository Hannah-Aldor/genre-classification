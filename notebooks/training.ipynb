{
 "cells": [
  {
   "cell_type": "code",
   "execution_count": 1,
   "metadata": {},
   "outputs": [],
   "source": [
    "from sklearn import svm\n",
    "from sklearn.model_selection import train_test_split\n",
    "import pandas as pd\n",
    "import joblib  # To save the model"
   ]
  },
  {
   "cell_type": "code",
   "execution_count": 10,
   "metadata": {},
   "outputs": [
    {
     "data": {
      "text/plain": [
       "['poly_svc_model.pkl']"
      ]
     },
     "execution_count": 10,
     "metadata": {},
     "output_type": "execute_result"
    }
   ],
   "source": [
    "\n",
    "# Load your data\n",
    "df = pd.read_csv('preprocessed_data.csv')\n",
    "X = df.drop('music_genre', axis=1)\n",
    "y = df['music_genre']\n",
    "\n",
    "# Split data\n",
    "X_train, X_test, y_train, y_test = train_test_split(X, y, test_size=0.2, random_state=42)\n",
    "\n",
    "# Save X_test and y_test to a CSV file called 'X_test.csv'\n",
    "X_test.to_csv('../test_datasets/X_test.csv', index=False)\n",
    "y_test.to_csv('../test_datasets/y_test.csv', index=False)\n",
    "\n",
    "# Train models\n",
    "svm_model = svm.SVC(decision_function_shape='ovr')\n",
    "rbf_svc = svm.SVC(kernel='rbf')\n",
    "poly_svc = svm.SVC(kernel='poly', degree=3)\n",
    "\n",
    "svm_model.fit(X_train, y_train)\n",
    "rbf_svc.fit(X_train, y_train)\n",
    "poly_svc.fit(X_train, y_train)\n",
    "\n",
    "# Save models\n",
    "joblib.dump(svm_model, 'svm_model.pkl')\n",
    "joblib.dump(rbf_svc, 'rbf_svc_model.pkl')\n",
    "joblib.dump(poly_svc, 'poly_svc_model.pkl')"
   ]
  },
  {
   "cell_type": "code",
   "execution_count": 13,
   "metadata": {},
   "outputs": [],
   "source": [
    "import pandas as pd\n",
    "\n",
    "# X_test is the test dataset with 10,000 observations\n",
    "# y_test is the ground-truth column\n",
    "\n",
    "X_test = pd.read_csv('../test_datasets/X_test.csv')\n",
    "y_test = pd.read_csv('../test_datasets/y_test.csv')\n",
    "\n",
    "# Partition X_test into X_test_1, X_test_2, ..., X_test_100\n",
    "for i in range(0, len(X_test), 100):\n",
    "    chunk = X_test[i:i + 100]\n",
    "    chunk.to_csv(f'../test_datasets/X_test_{i//100 + 1}.csv', index=False)\n",
    "    chunk = y_test[i:i + 100]\n",
    "    chunk.to_csv(f'../test_datasets/y_test_{i//100 + 1}.csv', index=False)"
   ]
  },
  {
   "cell_type": "code",
   "execution_count": 7,
   "metadata": {},
   "outputs": [
    {
     "name": "stdout",
     "output_type": "stream",
     "text": [
      "100\n"
     ]
    }
   ],
   "source": [
    "# Sample Code Used to Load & Run Pretrained Model\n",
    "import joblib\n",
    "\n",
    "# Load the model\n",
    "model = joblib.load('svm_model.pkl')\n",
    "\n",
    "# Prepare your new data (assuming 'new_data' is a pandas DataFrame)\n",
    "# Apply the same preprocessing as your training data\n",
    "# For example, if you normalized or scaled your training data, do the same here\n",
    "\n",
    "X_test = pd.read_csv('../test_datasets/X_test_1.csv')\n",
    "\n",
    "# Make predictions\n",
    "predictions = model.predict(X_test)\n"
   ]
  }
 ],
 "metadata": {
  "kernelspec": {
   "display_name": "base",
   "language": "python",
   "name": "python3"
  },
  "language_info": {
   "codemirror_mode": {
    "name": "ipython",
    "version": 3
   },
   "file_extension": ".py",
   "mimetype": "text/x-python",
   "name": "python",
   "nbconvert_exporter": "python",
   "pygments_lexer": "ipython3",
   "version": "3.10.9"
  }
 },
 "nbformat": 4,
 "nbformat_minor": 2
}
