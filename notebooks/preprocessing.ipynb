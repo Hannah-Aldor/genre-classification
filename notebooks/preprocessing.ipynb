{
 "cells": [
  {
   "cell_type": "code",
   "execution_count": 29,
   "metadata": {},
   "outputs": [
    {
     "name": "stdout",
     "output_type": "stream",
     "text": [
      "Genre mapping:  {'Alternative': 0, 'Anime': 1, 'Blues': 2, 'Classical': 3, 'Country': 4, 'Electronic': 5, 'Hip-Hop': 6, 'Jazz': 7, 'Rap': 8, 'Rock': 9}\n"
     ]
    }
   ],
   "source": [
    "import pandas as pd\n",
    "import numpy as np\n",
    "from sklearn.preprocessing import LabelEncoder, StandardScaler\n",
    "\n",
    "# Read CSV\n",
    "df = pd.read_csv(\"../music_genre.csv\")\n",
    "\n",
    "# Drop features with low correlation or high correlation with other features\n",
    "df = df.drop([\n",
    "    \"instance_id\",\n",
    "    \"track_name\",\n",
    "    \"obtained_date\",\n",
    "    \"energy\",\n",
    "    \"key\",\n",
    "    \"duration_ms\",\n",
    "    \"mode\"\n",
    "    ], axis=1).replace('?', float('NaN')).dropna(how='any')\n",
    "\n",
    "# Encode categorical values\n",
    "le = LabelEncoder()\n",
    "df['music_genre'] = le.fit_transform(df['music_genre'])\n",
    "genre_mapping = dict(zip(le.classes_, range(len(le.classes_)))) # store category mapping needed for displaying data later\n",
    "print('Genre mapping: ', genre_mapping)\n",
    "df['artist_num'] = le.fit_transform(df['artist_name'])\n",
    "\n",
    "# Make 'artist_genre' column\n",
    "for row in df.index:\n",
    "        artist_genre = np.unique(df[df['artist_num'] == df.loc[row,'artist_num']]['music_genre'])\n",
    "        df.loc[row,'artist_genre'] = str(artist_genre)\n",
    "\n",
    "# Delete temporary 'artist_num' and 'artist_name' columns and create new 'artist_genre' feature\n",
    "df = df.drop(['artist_name', 'artist_num'], axis=1)\n",
    "df['artist_genre'] = le.fit_transform(df['artist_genre'])\n",
    "\n",
    "# Standardize each column for SVM training\n",
    "scaler = StandardScaler()\n",
    "for column in df.columns:\n",
    "    if column == 'music_genre' or df[column].dtype not in ['int64', 'float64']:\n",
    "        continue\n",
    "    df[column] = scaler.fit_transform(df[[column]])\n",
    "\n",
    "# create csv file\n",
    "df.to_csv('../preprocessed_data.csv', index=False)"
   ]
  },
  {
   "cell_type": "code",
   "execution_count": 30,
   "metadata": {},
   "outputs": [],
   "source": [
    "from sklearn.model_selection import train_test_split\n",
    "\n",
    "# Split the dataset into training and testing sets for model training/testing\n",
    "X_train, X_test, y_train, y_test = train_test_split(df.drop(['music_genre'], axis=1), df['music_genre'], test_size=0.2, random_state=42)\n",
    "X_train.to_csv('../train_test_split_data/X_train.csv', index=False)\n",
    "X_test.to_csv('../train_test_split_data/X_test.csv', index=False)\n",
    "y_train.to_csv('../train_test_split_data/y_train.csv', index=False)\n",
    "y_test.to_csv('../train_test_split_data/y_test.csv', index=False)"
   ]
  },
  {
   "cell_type": "code",
   "execution_count": 31,
   "metadata": {},
   "outputs": [],
   "source": [
    "import pandas as pd\n",
    "\n",
    "# Split up X_test and y_test into smaller chunks for web app performance\n",
    "X_test = pd.read_csv('../train_test_split_data/X_test.csv')\n",
    "y_test = pd.read_csv('../train_test_split_data/y_test.csv')\n",
    "\n",
    "# Define the chunk size\n",
    "chunk_size = 100\n",
    "\n",
    "# Calculate the number of chunks needed\n",
    "num_chunks = len(X_test) // chunk_size + (1 if len(X_test) % chunk_size else 0)\n",
    "\n",
    "# Iterate over the DataFrames in chunks and save each chunk to a new CSV file\n",
    "for i in range(1, num_chunks + 1):\n",
    "    start = (i - 1) * chunk_size\n",
    "    end = start + chunk_size\n",
    "\n",
    "    X_chunk = X_test.iloc[start:end]\n",
    "    y_chunk = y_test.iloc[start:end]\n",
    "\n",
    "    X_chunk.to_csv(f'../test_datasets/X_test_{i}.csv', index=False)\n",
    "    y_chunk.to_csv(f'../test_datasets/y_test_{i}.csv', index=False)\n"
   ]
  }
 ],
 "metadata": {
  "kernelspec": {
   "display_name": "base",
   "language": "python",
   "name": "python3"
  },
  "language_info": {
   "codemirror_mode": {
    "name": "ipython",
    "version": 3
   },
   "file_extension": ".py",
   "mimetype": "text/x-python",
   "name": "python",
   "nbconvert_exporter": "python",
   "pygments_lexer": "ipython3",
   "version": "3.10.9"
  }
 },
 "nbformat": 4,
 "nbformat_minor": 2
}
