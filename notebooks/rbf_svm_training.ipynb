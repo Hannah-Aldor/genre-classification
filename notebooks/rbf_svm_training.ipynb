{
 "cells": [
  {
   "cell_type": "code",
   "execution_count": 1,
   "metadata": {},
   "outputs": [
    {
     "name": "stderr",
     "output_type": "stream",
     "text": [
      "/Users/irizk/miniconda3/lib/python3.9/site-packages/scipy/__init__.py:146: UserWarning: A NumPy version >=1.16.5 and <1.23.0 is required for this version of SciPy (detected version 1.24.3\n",
      "  warnings.warn(f\"A NumPy version >={np_minversion} and <{np_maxversion}\"\n"
     ]
    }
   ],
   "source": [
    "import pandas as pd\n",
    "from sklearn import svm\n",
    "from sklearn.model_selection import train_test_split\n",
    "from sklearn.metrics import classification_report\n",
    "import joblib\n",
    "\n",
    "# # Load the preprocessed data from CSV\n",
    "# df = pd.read_csv(\"new_preprocessed_data.csv\")\n",
    "\n",
    "# # Assuming 'X' is your feature set and 'y' is your target variable with genres encoded 0-9\n",
    "# X = df.drop('music_genre', axis=1)  # Drop the target column to isolate features\n",
    "# y = df['music_genre']  # Target column with genres encoded from 0 to 9\n",
    "\n",
    "# # Split the dataset into training and testing sets\n",
    "# X_train, X_test, y_train, y_test = train_test_split(X, y, test_size=0.2, random_state=42)\n",
    "\n",
    "X_train = pd.read_csv('./data/X_train.csv')\n",
    "X_test = pd.read_csv('./data/X_test.csv')\n",
    "\n",
    "y_train = pd.read_csv('./data/y_train.csv').values.ravel()\n",
    "y_test = pd.read_csv('./data/y_test.csv').values.ravel()\n"
   ]
  },
  {
   "cell_type": "code",
   "execution_count": 2,
   "metadata": {},
   "outputs": [
    {
     "name": "stdout",
     "output_type": "stream",
     "text": [
      "Fitting 5 folds for each of 9 candidates, totalling 45 fits\n",
      "[CV 1/5] END ......C=0.1, gamma=0.1, kernel=rbf;, score=0.656 total time= 1.4min\n",
      "[CV 2/5] END ......C=0.1, gamma=0.1, kernel=rbf;, score=0.659 total time= 1.3min\n",
      "[CV 3/5] END ......C=0.1, gamma=0.1, kernel=rbf;, score=0.652 total time= 1.4min\n",
      "[CV 4/5] END ......C=0.1, gamma=0.1, kernel=rbf;, score=0.664 total time= 1.2min\n",
      "[CV 5/5] END ......C=0.1, gamma=0.1, kernel=rbf;, score=0.647 total time= 1.2min\n",
      "[CV 1/5] END ........C=0.1, gamma=1, kernel=rbf;, score=0.101 total time= 1.4min\n",
      "[CV 2/5] END ........C=0.1, gamma=1, kernel=rbf;, score=0.101 total time= 1.3min\n",
      "[CV 3/5] END ........C=0.1, gamma=1, kernel=rbf;, score=0.101 total time= 1.5min\n",
      "[CV 4/5] END ........C=0.1, gamma=1, kernel=rbf;, score=0.101 total time= 1.5min\n",
      "[CV 5/5] END ........C=0.1, gamma=1, kernel=rbf;, score=0.101 total time= 1.5min\n",
      "[CV 1/5] END .......C=0.1, gamma=10, kernel=rbf;, score=0.101 total time= 1.4min\n",
      "[CV 2/5] END .......C=0.1, gamma=10, kernel=rbf;, score=0.101 total time= 1.2min\n",
      "[CV 3/5] END .......C=0.1, gamma=10, kernel=rbf;, score=0.101 total time= 1.2min\n",
      "[CV 4/5] END .......C=0.1, gamma=10, kernel=rbf;, score=0.101 total time= 1.2min\n",
      "[CV 5/5] END .......C=0.1, gamma=10, kernel=rbf;, score=0.101 total time= 1.2min\n",
      "[CV 1/5] END ........C=1, gamma=0.1, kernel=rbf;, score=0.760 total time= 1.6min\n",
      "[CV 2/5] END ........C=1, gamma=0.1, kernel=rbf;, score=0.757 total time= 1.5min\n",
      "[CV 3/5] END ........C=1, gamma=0.1, kernel=rbf;, score=0.752 total time= 1.6min\n",
      "[CV 4/5] END ........C=1, gamma=0.1, kernel=rbf;, score=0.755 total time= 1.5min\n",
      "[CV 5/5] END ........C=1, gamma=0.1, kernel=rbf;, score=0.751 total time= 1.6min\n",
      "[CV 1/5] END ..........C=1, gamma=1, kernel=rbf;, score=0.514 total time= 1.7min\n",
      "[CV 2/5] END ..........C=1, gamma=1, kernel=rbf;, score=0.492 total time= 1.7min\n",
      "[CV 3/5] END ..........C=1, gamma=1, kernel=rbf;, score=0.499 total time= 1.7min\n",
      "[CV 4/5] END ..........C=1, gamma=1, kernel=rbf;, score=0.487 total time= 1.6min\n",
      "[CV 5/5] END ..........C=1, gamma=1, kernel=rbf;, score=0.490 total time= 1.7min\n",
      "[CV 1/5] END .........C=1, gamma=10, kernel=rbf;, score=0.116 total time= 1.3min\n",
      "[CV 2/5] END .........C=1, gamma=10, kernel=rbf;, score=0.115 total time= 1.3min\n",
      "[CV 3/5] END .........C=1, gamma=10, kernel=rbf;, score=0.115 total time= 1.4min\n",
      "[CV 4/5] END .........C=1, gamma=10, kernel=rbf;, score=0.115 total time= 1.1min\n",
      "[CV 5/5] END .........C=1, gamma=10, kernel=rbf;, score=0.115 total time= 1.1min\n",
      "[CV 1/5] END .......C=10, gamma=0.1, kernel=rbf;, score=0.750 total time= 1.6min\n",
      "[CV 2/5] END .......C=10, gamma=0.1, kernel=rbf;, score=0.748 total time= 1.5min\n",
      "[CV 3/5] END .......C=10, gamma=0.1, kernel=rbf;, score=0.746 total time= 1.6min\n",
      "[CV 4/5] END .......C=10, gamma=0.1, kernel=rbf;, score=0.742 total time= 1.5min\n",
      "[CV 5/5] END .......C=10, gamma=0.1, kernel=rbf;, score=0.740 total time= 1.4min\n",
      "[CV 1/5] END .........C=10, gamma=1, kernel=rbf;, score=0.529 total time= 1.4min\n",
      "[CV 2/5] END .........C=10, gamma=1, kernel=rbf;, score=0.508 total time= 1.4min\n",
      "[CV 3/5] END .........C=10, gamma=1, kernel=rbf;, score=0.516 total time= 1.6min\n",
      "[CV 4/5] END .........C=10, gamma=1, kernel=rbf;, score=0.501 total time= 1.3min\n",
      "[CV 5/5] END .........C=10, gamma=1, kernel=rbf;, score=0.504 total time= 1.4min\n",
      "[CV 1/5] END ........C=10, gamma=10, kernel=rbf;, score=0.120 total time= 1.1min\n",
      "[CV 2/5] END ........C=10, gamma=10, kernel=rbf;, score=0.119 total time= 1.1min\n",
      "[CV 3/5] END ........C=10, gamma=10, kernel=rbf;, score=0.120 total time= 1.1min\n",
      "[CV 4/5] END ........C=10, gamma=10, kernel=rbf;, score=0.119 total time= 1.2min\n",
      "[CV 5/5] END ........C=10, gamma=10, kernel=rbf;, score=0.119 total time= 1.2min\n",
      "{'C': 1, 'gamma': 0.1, 'kernel': 'rbf'}\n",
      "SVC(C=1, gamma=0.1)\n"
     ]
    }
   ],
   "source": [
    "from sklearn.model_selection import GridSearchCV \n",
    "  \n",
    "# defining parameter range \n",
    "param_grid = {'C': [0.1, 1, 10],  \n",
    "              'gamma': [0.1, 1, 10], \n",
    "              'kernel': ['rbf']}  \n",
    "  \n",
    "grid = GridSearchCV(svm.SVC(), param_grid, refit = True, verbose = 3, n_jobs=-1) \n",
    "  \n",
    "# fitting the model for grid search \n",
    "grid.fit(X_train, y_train)\n",
    "\n",
    "\n",
    "# print best parameter after tuning \n",
    "print(grid.best_params_) \n",
    "  \n",
    "# print how our model looks after hyper-parameter tuning \n",
    "print(grid.best_estimator_) "
   ]
  },
  {
   "cell_type": "code",
   "execution_count": 3,
   "metadata": {},
   "outputs": [
    {
     "data": {
      "text/plain": [
       "['./models/best_rbf_svm.pkl']"
      ]
     },
     "execution_count": 3,
     "metadata": {},
     "output_type": "execute_result"
    }
   ],
   "source": [
    "joblib.dump(grid.best_estimator_, './models/best_rbf_svm.pkl')"
   ]
  },
  {
   "cell_type": "markdown",
   "metadata": {},
   "source": []
  },
  {
   "cell_type": "code",
   "execution_count": 4,
   "metadata": {},
   "outputs": [
    {
     "name": "stdout",
     "output_type": "stream",
     "text": [
      "              precision    recall  f1-score   support\n",
      "\n",
      "           0       0.68      0.75      0.71       856\n",
      "           1       0.96      0.94      0.95       919\n",
      "           2       0.83      0.87      0.85       873\n",
      "           3       0.86      0.95      0.90       881\n",
      "           4       0.85      0.86      0.86       921\n",
      "           5       0.91      0.90      0.90       931\n",
      "           6       0.54      0.63      0.58       905\n",
      "           7       0.88      0.82      0.85       888\n",
      "           8       0.44      0.30      0.36       914\n",
      "           9       0.61      0.61      0.61       916\n",
      "\n",
      "    accuracy                           0.76      9004\n",
      "   macro avg       0.76      0.76      0.76      9004\n",
      "weighted avg       0.76      0.76      0.76      9004\n",
      "\n"
     ]
    }
   ],
   "source": [
    "grid_predictions = grid.predict(X_test) \n",
    "  \n",
    "# print classification report \n",
    "print(classification_report(y_test, grid_predictions)) "
   ]
  }
 ],
 "metadata": {
  "kernelspec": {
   "display_name": "base",
   "language": "python",
   "name": "python3"
  },
  "language_info": {
   "codemirror_mode": {
    "name": "ipython",
    "version": 3
   },
   "file_extension": ".py",
   "mimetype": "text/x-python",
   "name": "python",
   "nbconvert_exporter": "python",
   "pygments_lexer": "ipython3",
   "version": "3.9.16"
  }
 },
 "nbformat": 4,
 "nbformat_minor": 2
}
